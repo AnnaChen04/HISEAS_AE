{
 "cells": [
  {
   "cell_type": "markdown",
   "id": "8b49ee73-14e5-47e3-bbe4-259652ecadc2",
   "metadata": {},
   "source": [
    "# HISEAS LIG SST Visualization\n",
    "#### Elli S., Anna C., Jannik M.\n",
    "#### Updated by AC on Feb 20, 2025"
   ]
  },
  {
   "cell_type": "markdown",
   "id": "83d129c8-7bf5-4cc9-808c-69a0244b735c",
   "metadata": {
    "tags": []
   },
   "source": [
    "### Takes in data from the harmonized Hoffman et al. Excel spreadsheet and plots SSTs of each proxy type"
   ]
  },
  {
   "cell_type": "code",
   "execution_count": 3,
   "id": "e8d8cf2e-bf47-4e19-88e4-96d56bf5c6e2",
   "metadata": {
    "tags": []
   },
   "outputs": [],
   "source": [
    "import pandas as pd\n",
    "import numpy as np\n",
    "import matplotlib.pyplot as plt\n",
    "import matplotlib.colors as colors\n",
    "import cartopy.crs as ccrs\n",
    "import geopandas as gpd\n",
    "import geodatasets\n",
    "\n",
    "import xarray as xr\n",
    "from scipy.interpolate import griddata\n",
    "\n",
    "# Filter out warnings from openpyxl regarding unknown extensions.\n",
    "warnings.filterwarnings(\"ignore\", message=\"Unknown extension is not supported and will be removed\")\n",
    "# Filter out pyproj warnings regarding converting masked elements to nan.\n",
    "warnings.filterwarnings(\"ignore\", message=\"Warning: converting a masked element to nan.\")"
   ]
  },
  {
   "cell_type": "code",
   "execution_count": 4,
   "id": "3df922e1-c5b8-4548-8656-379b483abb02",
   "metadata": {
    "tags": []
   },
   "outputs": [
    {
     "name": "stdout",
     "output_type": "stream",
     "text": [
      "List of tabs with data in the Excel file:\n",
      "['M23323-1_UK37', 'M23323-1_Foram', 'V28-14', 'EW9302-JPC8', 'odp 980', 'NA87-25', 'V27-20', 'M23414-9', 'NEAP18k', 'V23-82', 'K708-1', 'MD04-2845', 'V29-179', 'SU92-03', 'D-117', 'CH69k09', 'V30-97', 'MD95-2040_UK37', 'MD95-2040_Foram', 'SU90-03', 'MD01-2444_UK37', 'MD01-2444_MgCa', 'MD95-2036', 'KNR140-37JPC', 'MD02-2575', 'GIK15637-1', 'M12392-1', 'TR126-29', 'TR126-23', 'M35027-1', 'V22-196', 'V28-127', 'MD03-2707', 'V25-59', 'Y7211-1', 'ODP1020', 'ODP1018', 'MD01-2421', 'ODP893', 'ODP1014A', 'ODP1012', 'LAPAZ21', 'ODP1145', 'ODP1146', 'MD97-2151', 'GIK17961-2', 'V28-238', 'W8402A', 'TR163-22', 'ODP846', 'V19-29', 'Y71-6-12', 'MD06-3018', 'MD97-2121', 'RC15-61', 'ODP1123', 'MD97-2106', 'DSDP594', 'MD97-2120', 'Y9', 'MD97-2108', 'MD97-2109', 'V34-88', 'RC12-339', 'GeoB10038-4_MgCa', 'GeoB10038-4_UK37', 'MD01-2378', 'V28-345', 'MD94-101', 'MD84-527', 'MD94-102', 'MD73-25', 'MD88-770_Diatom', 'MD88-770_Foram', 'MD02-2488', 'V22-182_Foram', 'V22-182_Cocc', 'ODP662', 'GeoB1105_UK37', 'GeoB1105_Foram', 'GeoB1105_MgCa', 'RC13-205_Foram', 'RC13-205_Radiolaria', 'GeoB1112_MgCa', 'GeoB1112_Foram', 'V22-38_Foram', 'V22-38_Cocc', 'V22-174_Foram', 'V22-174_Cocc', 'RC13-228_Foram', 'RC13-228-228_Cocc', 'RC13-228_Radiolaria', 'GeoB1711-4', 'GeoB1710-3', 'RC13-229_Foram', 'RC13-229_Radiolaria', 'RC11-86_Foram', 'RC11-86_Cocc', 'MD96-2080', 'RC12-29_Foram', 'RC12-294_Cocc', 'ODP1089_UK37', 'ODP1089_Radiolaria', 'PS2489-2']\n"
     ]
    }
   ],
   "source": [
    "# Open the Excel file and retrieve sheet names\n",
    "excel_file = \"SST_Hoffman_Harmonized_AC_ES.xlsx\"\n",
    "xls = pd.ExcelFile(excel_file)\n",
    "sheet_names = xls.sheet_names\n",
    "\n",
    "# List of sheet names to remove\n",
    "sheets_to_remove = [\n",
    "    \"Reference Cores Tie Points\",\n",
    "    \"Fig1 Global & Regional Stacks\",\n",
    "    \"HadSST & SynTrACE Bias Estimate\",\n",
    "    \"TEMPLATE\",\n",
    "    \"NATL Data Read Me\",\n",
    "    \"PAC Data Read Me\",\n",
    "    \"IND Data Read Me\",\n",
    "    \"SATL Data Read Me\"\n",
    "]\n",
    "\n",
    "# Remove each sheet in sheets_to_remove if it exists in core_ID_list\n",
    "for sheet in sheets_to_remove:\n",
    "    if sheet in sheet_names:\n",
    "        sheet_names.remove(sheet)\n",
    "\n",
    "print(\"List of tabs with data in the Excel file:\")\n",
    "print(sheet_names)"
   ]
  },
  {
   "cell_type": "code",
   "execution_count": 5,
   "id": "71077842-4119-493c-a53e-433ac49d3530",
   "metadata": {
    "tags": []
   },
   "outputs": [],
   "source": [
    "# Define proxy marker mapping\n",
    "proxy_marker_map = {\n",
    "    \"Foram\": \"o\",      # Circle\n",
    "    \"UK37\": \"^\",       # Triangle\n",
    "    \"MgCa\": \"s\",       # Square\n",
    "    \"Radiolaria\": \"D\", # Diamond\n",
    "    \"Cocc\": \"P\",       # Plus\n",
    "    \"Diatom\": \"X\"      # Filled-X\n",
    "}"
   ]
  },
  {
   "cell_type": "code",
   "execution_count": null,
   "id": "30d65f5e-4e06-4100-8a19-6f20c750fbff",
   "metadata": {
    "tags": []
   },
   "outputs": [
    {
     "name": "stdin",
     "output_type": "stream",
     "text": [
      "Enter a specific year before present (e.g., 115000):  115000\n"
     ]
    }
   ],
   "source": [
    "def extract_record_for_sheet(sheet, year_input):\n",
    "    \"\"\"\n",
    "    For a given sheet name and year:\n",
    "      - Reads columns B, C, D (Longitude, Latitude, Proxy) and extracts row 2 (first data row).\n",
    "      - Reads columns Q and S (Age and SST Mean), finds the row where Age matches the given year,\n",
    "        and extracts the SST Mean.\n",
    "      - Returns a dictionary with keys: \"Longitude\", \"Latitude\", \"Proxy\", and \"SST\".\n",
    "      - If no matching year is found, returns None.\n",
    "    \"\"\"\n",
    "    try:\n",
    "        # Read base info (columns B, C, D) from row 2 only.\n",
    "        df_base = pd.read_excel(excel_file, sheet_name=sheet, usecols=\"A,B,C,D\")\n",
    "        df_base.columns = ['ID', 'Longitude', 'Latitude', 'Proxy']\n",
    "        # Row 2 is the first data row (index 0)\n",
    "        ID = df_base.iloc[0]['ID']\n",
    "        lon = df_base.iloc[0]['Longitude']\n",
    "        lat = df_base.iloc[0]['Latitude']\n",
    "        proxy = df_base.iloc[0]['Proxy']\n",
    "    except Exception as e:\n",
    "        print(f\"Error reading base info from sheet {sheet}: {e}\")\n",
    "        return None\n",
    "\n",
    "    try:\n",
    "        # Read age and SST info (columns Q and S) for all rows.\n",
    "        df_sst = pd.read_excel(excel_file, sheet_name=sheet, usecols=\"R,T,S,U\")\n",
    "        df_sst.columns = ['Age', 'SST', 'SST-2sd', 'SST+2sd']\n",
    "        # Find the row where Age matches the entered year.\n",
    "        match = df_sst[df_sst['Age'] == year_input]\n",
    "        if match.empty:\n",
    "            print(f\"Year {year_input} not found in sheet {sheet}.\")\n",
    "            return None\n",
    "        # Extract the SST value from the first matching row.\n",
    "        sst_val = match.iloc[0]['SST']\n",
    "        sst_upper_val = match.iloc[0]['SST+2sd']\n",
    "        sst_lower_val = match.iloc[0]['SST-2sd']\n",
    "    except Exception as e:\n",
    "        print(f\"Error reading SST info from sheet {sheet}: {e}\")\n",
    "        return None\n",
    "\n",
    "    return {\"ID\": ID, \"Longitude\": lon, \"Latitude\": lat, \"Proxy\": proxy, \n",
    "            \"SST\": sst_val, \"SST+2sd\": sst_upper_val, \"SST-2sd\": sst_lower_val}\n",
    "\n",
    "def build_gdf(year_input):\n",
    "    \"\"\"\n",
    "    Loop through all sheets, extract records for the given year, and return a DataFrame.\n",
    "    \"\"\"\n",
    "    records = []\n",
    "    for sheet in sheet_names:\n",
    "        rec = extract_record_for_sheet(sheet, year_input)\n",
    "        if rec is not None:\n",
    "            records.append(rec)\n",
    "    if records:\n",
    "        return pd.DataFrame(records)\n",
    "    else:\n",
    "        return pd.DataFrame()\n",
    "\n",
    "def plot_proxy_data(gdf):\n",
    "    \"\"\"\n",
    "    Plots the data grouped by proxy type onto a world map.\n",
    "    \"\"\"\n",
    "    # Set up colormap and fixed normalization from 5 to 30 ºC.\n",
    "    cmap = plt.cm.viridis\n",
    "    norm = colors.Normalize(vmin=0, vmax=30)\n",
    "    \n",
    "    # Load world map from geodatasets via GeoPandas.\n",
    "    world = gpd.read_file(geodatasets.data.naturalearth.land['url'])\n",
    "    \n",
    "    # Create the plot.\n",
    "    fig, ax = plt.subplots(figsize=(10, 6))\n",
    "    world.plot(ax=ax, color='lightgrey', edgecolor='lightgrey')\n",
    "    \n",
    "    # Group the data by proxy type and plot each group.\n",
    "    for proxy, group in gdf.groupby(\"Proxy\"):\n",
    "        ax.scatter(\n",
    "            group['Longitude'], group['Latitude'],\n",
    "            marker=proxy_marker_map.get(proxy, \"o\"),\n",
    "            c=group['SST'],\n",
    "            cmap=cmap, norm=norm,\n",
    "            edgecolor=\"black\", s=50,\n",
    "            label=proxy\n",
    "        )\n",
    "    \n",
    "    # Add a colorbar for SST values.\n",
    "    sm = plt.cm.ScalarMappable(norm=norm, cmap=cmap)\n",
    "    sm.set_array([])\n",
    "    cbar = plt.colorbar(sm, ax=ax, orientation='vertical', pad=0.02, aspect=30)\n",
    "    cbar.set_label(\"SST Mean (ºC)\")\n",
    "    \n",
    "    # Add legend for proxy types.\n",
    "    ax.legend(title=\"Proxy Type\", loc='upper left', prop={'size': 7})\n",
    "    plt.title(f\"Sea Surface Temperature by Proxy Type {year_input} yr BP\")\n",
    "    plt.show()\n",
    "\n",
    "if __name__ == \"__main__\":\n",
    "    try:\n",
    "        year_input = int(input(\"Enter a specific year before present (e.g., 115000): \"))\n",
    "    except ValueError:\n",
    "        print(\"Invalid year input.\")\n",
    "        exit()\n",
    "\n",
    "    # Build the DataFrame of records.\n",
    "    gdf = build_gdf(year_input)\n",
    "    if gdf.empty:\n",
    "        print(\"No records found for the given year.\")\n",
    "    else:\n",
    "        # Plot the data grouped by proxy type.\n",
    "        plot_proxy_data(gdf)\n",
    "    \n",
    "    # Print the DataFrame of records.\n",
    "    print(f\"The data frame of records {year_input} yr BP is:\")\n",
    "    print(gdf)"
   ]
  },
  {
   "cell_type": "markdown",
   "id": "ab75abe4-3649-476e-a34d-9acacd289eaa",
   "metadata": {},
   "source": [
    "## Data interpolation attempt"
   ]
  },
  {
   "cell_type": "code",
   "execution_count": 16,
   "id": "4f64bca7-186b-4e5d-b82a-0d31fbf029e1",
   "metadata": {
    "tags": []
   },
   "outputs": [],
   "source": [
    "from netCDF4 import Dataset"
   ]
  },
  {
   "cell_type": "code",
   "execution_count": 30,
   "id": "7c0e0e2a-70d9-41d3-aaa0-cdc22f8fedbe",
   "metadata": {
    "tags": []
   },
   "outputs": [],
   "source": [
    "# Load the land-sea mask\n",
    "mask_file = \"land_sea_mask.nc4\"\n",
    "landsea_mask = Dataset(mask_file)"
   ]
  },
  {
   "cell_type": "code",
   "execution_count": 33,
   "id": "33bd3681-a064-4006-9a9d-9537ef2601a4",
   "metadata": {
    "tags": []
   },
   "outputs": [
    {
     "ename": "NameError",
     "evalue": "name 'lons' is not defined",
     "output_type": "error",
     "traceback": [
      "\u001b[0;31m---------------------------------------------------------------------------\u001b[0m",
      "\u001b[0;31mNameError\u001b[0m                                 Traceback (most recent call last)",
      "Cell \u001b[0;32mIn[33], line 2\u001b[0m\n\u001b[1;32m      1\u001b[0m \u001b[38;5;66;03m# Generate a mesh grid for interpolation points\u001b[39;00m\n\u001b[0;32m----> 2\u001b[0m lon_grid, lat_grid \u001b[38;5;241m=\u001b[39m np\u001b[38;5;241m.\u001b[39mmeshgrid(lons, lats)\n",
      "\u001b[0;31mNameError\u001b[0m: name 'lons' is not defined"
     ]
    }
   ],
   "source": [
    "# Generate a mesh grid for interpolation points\n",
    "lon_grid, lat_grid = np.meshgrid(lons, lats)"
   ]
  },
  {
   "cell_type": "code",
   "execution_count": 31,
   "id": "bde0ac5f-7bd7-40e8-8d13-b480c9377711",
   "metadata": {
    "tags": []
   },
   "outputs": [],
   "source": [
    "# Function to perform interpolation\n",
    "def interpolate_sst(gdf):\n",
    "    \"\"\"\n",
    "    Interpolates SST data using griddata method over ocean regions.\n",
    "    \"\"\"\n",
    "    # Extract valid ocean points\n",
    "    ocean_mask = (landsea_mask == 0)\n",
    "    lon_ocean = lon_grid[ocean_mask]\n",
    "    lat_ocean = lat_grid[ocean_mask]\n",
    "    \n",
    "    # Extract known data points\n",
    "    known_lons = gdf['Longitude'].values\n",
    "    known_lats = gdf['Latitude'].values\n",
    "    known_sst = gdf['SST'].values\n",
    "    \n",
    "    # Perform interpolation\n",
    "    sst_interp = griddata((known_lons, known_lats), known_sst, (lon_ocean, lat_ocean), method='linear')\n",
    "    \n",
    "    # Map interpolated values back to a full grid\n",
    "    sst_grid = np.full(lon_grid.shape, np.nan)\n",
    "    sst_grid[ocean_mask] = sst_interp\n",
    "    \n",
    "    return sst_grid\n"
   ]
  },
  {
   "cell_type": "code",
   "execution_count": 32,
   "id": "c77eb1ff-4b6b-4838-a57b-c0b01b874d30",
   "metadata": {
    "tags": []
   },
   "outputs": [
    {
     "name": "stdout",
     "output_type": "stream",
     "text": [
      "Year 115000 not found in sheet RC11-86_Foram.\n",
      "Year 115000 not found in sheet RC11-86_Cocc.\n"
     ]
    },
    {
     "ename": "NameError",
     "evalue": "name 'lon_grid' is not defined",
     "output_type": "error",
     "traceback": [
      "\u001b[0;31m---------------------------------------------------------------------------\u001b[0m",
      "\u001b[0;31mNameError\u001b[0m                                 Traceback (most recent call last)",
      "Cell \u001b[0;32mIn[32], line 7\u001b[0m\n\u001b[1;32m      5\u001b[0m     \u001b[38;5;28mprint\u001b[39m(\u001b[38;5;124m\"\u001b[39m\u001b[38;5;124mNo records found for the given year.\u001b[39m\u001b[38;5;124m\"\u001b[39m)\n\u001b[1;32m      6\u001b[0m \u001b[38;5;28;01melse\u001b[39;00m:\n\u001b[0;32m----> 7\u001b[0m     sst_grid \u001b[38;5;241m=\u001b[39m interpolate_sst(gdf)\n\u001b[1;32m      9\u001b[0m     \u001b[38;5;66;03m# Plot interpolated SST map\u001b[39;00m\n\u001b[1;32m     10\u001b[0m     fig, ax \u001b[38;5;241m=\u001b[39m plt\u001b[38;5;241m.\u001b[39msubplots(figsize\u001b[38;5;241m=\u001b[39m(\u001b[38;5;241m12\u001b[39m, \u001b[38;5;241m6\u001b[39m))\n",
      "Cell \u001b[0;32mIn[31], line 8\u001b[0m, in \u001b[0;36minterpolate_sst\u001b[0;34m(gdf)\u001b[0m\n\u001b[1;32m      6\u001b[0m \u001b[38;5;66;03m# Extract valid ocean points\u001b[39;00m\n\u001b[1;32m      7\u001b[0m ocean_mask \u001b[38;5;241m=\u001b[39m (landsea_mask \u001b[38;5;241m==\u001b[39m \u001b[38;5;241m0\u001b[39m)\n\u001b[0;32m----> 8\u001b[0m lon_ocean \u001b[38;5;241m=\u001b[39m lon_grid[ocean_mask]\n\u001b[1;32m      9\u001b[0m lat_ocean \u001b[38;5;241m=\u001b[39m lat_grid[ocean_mask]\n\u001b[1;32m     11\u001b[0m \u001b[38;5;66;03m# Extract known data points\u001b[39;00m\n",
      "\u001b[0;31mNameError\u001b[0m: name 'lon_grid' is not defined"
     ]
    }
   ],
   "source": [
    "# Load and interpolate data for year 115000\n",
    "year_input = 115000\n",
    "gdf = build_gdf(year_input)\n",
    "if gdf.empty:\n",
    "    print(\"No records found for the given year.\")\n",
    "else:\n",
    "    sst_grid = interpolate_sst(gdf)\n",
    "    \n",
    "    # Plot interpolated SST map\n",
    "    fig, ax = plt.subplots(figsize=(12, 6))\n",
    "    cmap = plt.cm.viridis\n",
    "    norm = colors.Normalize(vmin=0, vmax=30)\n",
    "    \n",
    "    # Load world map\n",
    "    world = gpd.read_file(geodatasets.data.naturalearth.land['url'])\n",
    "    world.plot(ax=ax, color='lightgrey', edgecolor='black')\n",
    "    \n",
    "    # Plot interpolated SST\n",
    "    img = ax.pcolormesh(lon_grid, lat_grid, sst_grid, cmap=cmap, norm=norm)\n",
    "    \n",
    "    # Add colorbar\n",
    "    cbar = plt.colorbar(img, ax=ax, orientation='vertical', pad=0.02, aspect=30)\n",
    "    cbar.set_label(\"Interpolated SST (ºC)\")\n",
    "    \n",
    "    plt.title(f\"Interpolated Sea Surface Temperature - {year_input} yr BP\")\n",
    "    plt.show()"
   ]
  },
  {
   "cell_type": "markdown",
   "id": "02730acf-c480-48ce-96bd-7435753a28b0",
   "metadata": {},
   "source": [
    "## Below is the old code used for Elli's Google Sheet\n",
    "### Use the code above, ignore the code below"
   ]
  },
  {
   "cell_type": "raw",
   "id": "75600fae-699a-4a1a-bb45-3c7a91d5df89",
   "metadata": {
    "tags": []
   },
   "source": [
    "# Old code\n",
    "\n",
    "# Read cvs file\n",
    "df = pd.read_csv('SST_Hoffaman_Data.csv')\n",
    "\n",
    "# Create GeoDataFrame\n",
    "geometry = [Point(xy) for xy in zip(df['Longitude'], df['Latitude'])]\n",
    "gdf = GeoDataFrame(df, geometry=geometry)\n",
    "\n",
    "# Load world map\n",
    "world = gpd.read_file(geodatasets.data.naturalearth.land['url'])\n",
    "\n",
    "# Define marker styles for each proxy type\n",
    "proxy_marker_map = {\n",
    "    \"Foram\": \"o\",  # Circle\n",
    "    \"UK37\": \"^\",    # Triangle\n",
    "    \"MgCa\": \"s\" ,    # Square\n",
    "    \"Radiolaria\": \"D\", # Diamond\n",
    "    \"Cocc\": \"P\" # Plus\n",
    "}\n",
    "\n",
    "# Change year column\n",
    "year = \"115000\"\n",
    "\n",
    "# Extract temperature values\n",
    "temperature_values = df[year]\n",
    "\n",
    "# Normalize temperature values for colormap\n",
    "norm = plt.Normalize(vmin=temperature_values.min(), vmax=temperature_values.max())\n",
    "cmap = plt.cm.viridis  # Choose a colormap\n",
    "\n",
    "# Plot Map\n",
    "fig, ax = plt.subplots(figsize=(10, 6))\n",
    "world.plot(ax=ax, color='lightgray')\n",
    "\n",
    "# Plot each proxy type with different markers and colormap\n",
    "for proxy, marker in proxy_marker_map.items():\n",
    "    subset = gdf[gdf['Proxy'] == proxy]\n",
    "    \n",
    "    # Scatter plot with color based on temperature\n",
    "    scatter = ax.scatter(\n",
    "        subset['Longitude'], subset['Latitude'],\n",
    "        marker=marker, \n",
    "        c=subset[year],  # Color by temperature\n",
    "        cmap=cmap, norm=norm, \n",
    "        edgecolor=\"black\", s=50, label=proxy\n",
    "    )\n",
    "\n",
    "# Add colorbar\n",
    "cbar = plt.colorbar(scatter, ax=ax)\n",
    "cbar.set_label(\"Temperature (°C)\")\n",
    "# Add legend\n",
    "plt.legend(title=\"Proxy Type\")\n",
    "plt.legend(prop={'size': 7})\n",
    "plt.xlabel(\"Longitude\")\n",
    "plt.ylabel(\"Latitude\")\n",
    "plt.title(f\"Hoffman Temperature Visualization {year} years ago\")\n",
    "\n",
    "plt.show()"
   ]
  }
 ],
 "metadata": {
  "kernelspec": {
   "display_name": "Python 3 (ipykernel)",
   "language": "python",
   "name": "python3"
  },
  "language_info": {
   "codemirror_mode": {
    "name": "ipython",
    "version": 3
   },
   "file_extension": ".py",
   "mimetype": "text/x-python",
   "name": "python",
   "nbconvert_exporter": "python",
   "pygments_lexer": "ipython3",
   "version": "3.11.5"
  }
 },
 "nbformat": 4,
 "nbformat_minor": 5
}
