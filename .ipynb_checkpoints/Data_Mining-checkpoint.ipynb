{
 "cells": [
  {
   "cell_type": "markdown",
   "id": "aacff202-4688-48a5-aa0a-6dc057b1e6e4",
   "metadata": {},
   "source": [
    "# HISEAS LIG SST Interpolation + Visualization\n",
    "#### Elli's Notebook\n",
    "#### Updated on Feb 28, 2025"
   ]
  },
  {
   "cell_type": "code",
   "execution_count": 2,
   "id": "8774b40d-eb7c-4e6e-b23e-e31d97029640",
   "metadata": {
    "tags": []
   },
   "outputs": [],
   "source": [
    "import pandas as pd\n",
    "import numpy as np\n",
    "import matplotlib.pyplot as plt\n",
    "import matplotlib.colors as colors\n",
    "import cartopy.crs as ccrs\n",
    "import geopandas as gpd\n",
    "import geodatasets"
   ]
  },
  {
   "cell_type": "code",
   "execution_count": 7,
   "id": "e6718bfe-1d3f-4b21-ae32-f751035b0a7c",
   "metadata": {
    "tags": []
   },
   "outputs": [
    {
     "name": "stdout",
     "output_type": "stream",
     "text": [
      "Error reading GeoB3327-5_UK37_SST_d180.tab: Error tokenizing data. C error: Expected 2 fields in line 20, saw 8\n",
      "\n",
      "Error reading GeoB3388-1_age_model_LSR.tab: Error tokenizing data. C error: Expected 2 fields in line 15, saw 3\n",
      "\n",
      "Error reading GeoB3388-1_UK37_SST.tab: Error tokenizing data. C error: Expected 2 fields in line 18, saw 6\n",
      "\n",
      "Error reading PS75_034-2_age_model_LSR.tab: Error tokenizing data. C error: Expected 2 fields in line 15, saw 3\n",
      "\n",
      "Error reading PS75_034-2_UK37_SST.tab: Error tokenizing data. C error: Expected 2 fields in line 18, saw 6\n",
      "\n"
     ]
    }
   ],
   "source": [
    "# List of filenames (you can modify this to include more files or dynamically fetch them from a directory)\n",
    "file_names = [\n",
    "    \"GeoB3327-5_UK37_SST_d180.tab\",\n",
    "    \"GeoB3388-1_age_model_LSR.tab\",\n",
    "    \"GeoB3388-1_UK37_SST.tab\",\n",
    "    \"PS75_034-2_age_model_LSR.tab\",\n",
    "    \"PS75_034-2_UK37_SST.tab\"\n",
    "]\n",
    "\n",
    "# Dictionary to store the dataframes\n",
    "dataframes = {}\n",
    "\n",
    "# Loop through the list of filenames\n",
    "for file_name in file_names:\n",
    "    file_path = file_name  # Assume files are in the same directory as the script\n",
    "    \n",
    "    # Extract the file name without the .tab extension\n",
    "    name = file_name.split('.')[0]\n",
    "    \n",
    "    # Read the tab file, skipping the first 19 rows and using the 20th as the header\n",
    "    try:\n",
    "        df = pd.read_csv(file_path, sep=\"\\t\")\n",
    "        dataframes[name] = df  # Store the dataframe with the filename as the key\n",
    "        print(f\"\\nDataframe for {name}:\")\n",
    "        print(df)  # Print the dataframe\n",
    "    except Exception as e:\n",
    "        print(f\"Error reading {file_name}: {e}\")\n",
    "\n",
    "# Example: Access a dataframe using the filename (e.g., GeoB3327-5_UK37_SST_d180)\n",
    "# df = dataframes[\"GeoB3327-5_UK37_SST_d180\"]\n"
   ]
  }
 ],
 "metadata": {
  "kernelspec": {
   "display_name": "Python 3 (ipykernel)",
   "language": "python",
   "name": "python3"
  },
  "language_info": {
   "codemirror_mode": {
    "name": "ipython",
    "version": 3
   },
   "file_extension": ".py",
   "mimetype": "text/x-python",
   "name": "python",
   "nbconvert_exporter": "python",
   "pygments_lexer": "ipython3",
   "version": "3.11.5"
  }
 },
 "nbformat": 4,
 "nbformat_minor": 5
}
